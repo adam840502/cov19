{
 "cells": [
  {
   "cell_type": "code",
   "execution_count": 1,
   "metadata": {},
   "outputs": [
    {
     "name": "stderr",
     "output_type": "stream",
     "text": [
      "/usr/local/lib/python3.7/dist-packages/tqdm/std.py:666: FutureWarning: The Panel class is removed from pandas. Accessing it from the top-level namespace will also be removed in the next version\n",
      "  from pandas import Panel\n"
     ]
    }
   ],
   "source": [
    "import numpy as np\n",
    "import pandas as pd\n",
    "from tqdm import tqdm\n",
    "tqdm.pandas()\n",
    "\n",
    "from bert_serving.client import BertClient"
   ]
  },
  {
   "cell_type": "code",
   "execution_count": 2,
   "metadata": {},
   "outputs": [
    {
     "data": {
      "text/html": [
       "<div>\n",
       "<style scoped>\n",
       "    .dataframe tbody tr th:only-of-type {\n",
       "        vertical-align: middle;\n",
       "    }\n",
       "\n",
       "    .dataframe tbody tr th {\n",
       "        vertical-align: top;\n",
       "    }\n",
       "\n",
       "    .dataframe thead th {\n",
       "        text-align: right;\n",
       "    }\n",
       "</style>\n",
       "<table border=\"1\" class=\"dataframe\">\n",
       "  <thead>\n",
       "    <tr style=\"text-align: right;\">\n",
       "      <th></th>\n",
       "      <th>paper_id</th>\n",
       "      <th>body_text</th>\n",
       "      <th>methods</th>\n",
       "      <th>results</th>\n",
       "      <th>source</th>\n",
       "      <th>title</th>\n",
       "      <th>doi</th>\n",
       "      <th>abstract</th>\n",
       "      <th>publish_time</th>\n",
       "      <th>authors</th>\n",
       "      <th>journal</th>\n",
       "      <th>arxiv_id</th>\n",
       "      <th>url</th>\n",
       "      <th>publish_year</th>\n",
       "      <th>is_covid19</th>\n",
       "      <th>study_design</th>\n",
       "    </tr>\n",
       "  </thead>\n",
       "  <tbody>\n",
       "    <tr>\n",
       "      <th>0</th>\n",
       "      <td>3cdc48bb9e40afd30a59463b7872761a726998c8</td>\n",
       "      <td>NDV (Roakin strain) was obtained from Dr. D. J...</td>\n",
       "      <td>NDV (Roakin strain) was obtained from Dr. D. J...</td>\n",
       "      <td>Adult house flies harbored Newcastle Disease v...</td>\n",
       "      <td>PMC</td>\n",
       "      <td>Experimental Evaluation of Musca domestica (Di...</td>\n",
       "      <td>10.1093/jmedent/44.4.666</td>\n",
       "      <td>House flies, Musca domestica L. (Diptera: Musc...</td>\n",
       "      <td>2007-07-01</td>\n",
       "      <td>Watson, D. Wes; Niño, Elina L.; Rochon, Katery...</td>\n",
       "      <td>J Med Entomol</td>\n",
       "      <td>NaN</td>\n",
       "      <td>https://www.ncbi.nlm.nih.gov/pmc/articles/PMC7...</td>\n",
       "      <td>2007</td>\n",
       "      <td>False</td>\n",
       "      <td>[]</td>\n",
       "    </tr>\n",
       "    <tr>\n",
       "      <th>1</th>\n",
       "      <td>d99acb4e99be7852aa61a688c9fbd38d44b5a252</td>\n",
       "      <td>Live attenuated viruses have been developed an...</td>\n",
       "      <td>RSV A2 strain was obtained from ATCC (Manassas...</td>\n",
       "      <td>The reverse genetics system for measles Edmons...</td>\n",
       "      <td>PMC</td>\n",
       "      <td>Evaluation of Measles Vaccine Virus as a Vecto...</td>\n",
       "      <td>10.2174/1874357901206010012</td>\n",
       "      <td>Live attenuated recombinant measles vaccine vi...</td>\n",
       "      <td>2012-02-16</td>\n",
       "      <td>Mok, Hoyin; Cheng, Xing; Xu, Qi; Zengel, James...</td>\n",
       "      <td>Open Virol J</td>\n",
       "      <td>NaN</td>\n",
       "      <td>https://www.ncbi.nlm.nih.gov/pmc/articles/PMC3...</td>\n",
       "      <td>2012</td>\n",
       "      <td>False</td>\n",
       "      <td>['truncated', 'gamma', 'protocol']</td>\n",
       "    </tr>\n",
       "    <tr>\n",
       "      <th>2</th>\n",
       "      <td>748d4c57fe1acc8d9d97cf574f7dea5296f9386c</td>\n",
       "      <td>Ebola virus (EBOV) and other members of the fa...</td>\n",
       "      <td>U2OS human osteosarcoma cells were cultured in...</td>\n",
       "      <td>For evaluating EBOV GP triggering under biosaf...</td>\n",
       "      <td>PMC</td>\n",
       "      <td>Direct Visualization of Ebola Virus Fusion Tri...</td>\n",
       "      <td>10.1128/mbio.01857-15</td>\n",
       "      <td>Ebola virus (EBOV) makes extensive and intrica...</td>\n",
       "      <td>2016-02-09</td>\n",
       "      <td>Spence, Jennifer S.; Krause, Tyler B.; Mittler...</td>\n",
       "      <td>mBio</td>\n",
       "      <td>NaN</td>\n",
       "      <td>https://www.ncbi.nlm.nih.gov/pmc/articles/PMC4...</td>\n",
       "      <td>2016</td>\n",
       "      <td>False</td>\n",
       "      <td>['truncated', 'heterogeneity']</td>\n",
       "    </tr>\n",
       "    <tr>\n",
       "      <th>3</th>\n",
       "      <td>b891efc6e1419713b05ff7d89b26d260478c28df</td>\n",
       "      <td>To the Editor:\\nChina has the world's second l...</td>\n",
       "      <td>NaN</td>\n",
       "      <td>NaN</td>\n",
       "      <td>PMC</td>\n",
       "      <td>Tuberculosis prevention in healthcare workers ...</td>\n",
       "      <td>10.1183/23120541.00015-2015</td>\n",
       "      <td>BSL3 and respiratory isolation wards protect h...</td>\n",
       "      <td>2015-08-21</td>\n",
       "      <td>Deng, Yunfeng; Li, Yan; Wang, Fengtian; Gao, D...</td>\n",
       "      <td>ERJ Open Res</td>\n",
       "      <td>NaN</td>\n",
       "      <td>https://www.ncbi.nlm.nih.gov/pmc/articles/PMC5...</td>\n",
       "      <td>2015</td>\n",
       "      <td>False</td>\n",
       "      <td>[]</td>\n",
       "    </tr>\n",
       "    <tr>\n",
       "      <th>4</th>\n",
       "      <td>353852971069ad5794445e5c1ab6077ce23da75d</td>\n",
       "      <td>Coronavirus disease 2019 (COVID-19) has spread...</td>\n",
       "      <td>NaN</td>\n",
       "      <td>NaN</td>\n",
       "      <td>NaN</td>\n",
       "      <td>NaN</td>\n",
       "      <td>NaN</td>\n",
       "      <td>NaN</td>\n",
       "      <td>NaT</td>\n",
       "      <td>NaN</td>\n",
       "      <td>NaN</td>\n",
       "      <td>NaN</td>\n",
       "      <td>NaN</td>\n",
       "      <td>-1</td>\n",
       "      <td>True</td>\n",
       "      <td>[]</td>\n",
       "    </tr>\n",
       "  </tbody>\n",
       "</table>\n",
       "</div>"
      ],
      "text/plain": [
       "                                   paper_id  \\\n",
       "0  3cdc48bb9e40afd30a59463b7872761a726998c8   \n",
       "1  d99acb4e99be7852aa61a688c9fbd38d44b5a252   \n",
       "2  748d4c57fe1acc8d9d97cf574f7dea5296f9386c   \n",
       "3  b891efc6e1419713b05ff7d89b26d260478c28df   \n",
       "4  353852971069ad5794445e5c1ab6077ce23da75d   \n",
       "\n",
       "                                           body_text  \\\n",
       "0  NDV (Roakin strain) was obtained from Dr. D. J...   \n",
       "1  Live attenuated viruses have been developed an...   \n",
       "2  Ebola virus (EBOV) and other members of the fa...   \n",
       "3  To the Editor:\\nChina has the world's second l...   \n",
       "4  Coronavirus disease 2019 (COVID-19) has spread...   \n",
       "\n",
       "                                             methods  \\\n",
       "0  NDV (Roakin strain) was obtained from Dr. D. J...   \n",
       "1  RSV A2 strain was obtained from ATCC (Manassas...   \n",
       "2  U2OS human osteosarcoma cells were cultured in...   \n",
       "3                                                NaN   \n",
       "4                                                NaN   \n",
       "\n",
       "                                             results source  \\\n",
       "0  Adult house flies harbored Newcastle Disease v...    PMC   \n",
       "1  The reverse genetics system for measles Edmons...    PMC   \n",
       "2  For evaluating EBOV GP triggering under biosaf...    PMC   \n",
       "3                                                NaN    PMC   \n",
       "4                                                NaN    NaN   \n",
       "\n",
       "                                               title  \\\n",
       "0  Experimental Evaluation of Musca domestica (Di...   \n",
       "1  Evaluation of Measles Vaccine Virus as a Vecto...   \n",
       "2  Direct Visualization of Ebola Virus Fusion Tri...   \n",
       "3  Tuberculosis prevention in healthcare workers ...   \n",
       "4                                                NaN   \n",
       "\n",
       "                           doi  \\\n",
       "0     10.1093/jmedent/44.4.666   \n",
       "1  10.2174/1874357901206010012   \n",
       "2        10.1128/mbio.01857-15   \n",
       "3  10.1183/23120541.00015-2015   \n",
       "4                          NaN   \n",
       "\n",
       "                                            abstract publish_time  \\\n",
       "0  House flies, Musca domestica L. (Diptera: Musc...   2007-07-01   \n",
       "1  Live attenuated recombinant measles vaccine vi...   2012-02-16   \n",
       "2  Ebola virus (EBOV) makes extensive and intrica...   2016-02-09   \n",
       "3  BSL3 and respiratory isolation wards protect h...   2015-08-21   \n",
       "4                                                NaN          NaT   \n",
       "\n",
       "                                             authors        journal arxiv_id  \\\n",
       "0  Watson, D. Wes; Niño, Elina L.; Rochon, Katery...  J Med Entomol      NaN   \n",
       "1  Mok, Hoyin; Cheng, Xing; Xu, Qi; Zengel, James...   Open Virol J      NaN   \n",
       "2  Spence, Jennifer S.; Krause, Tyler B.; Mittler...           mBio      NaN   \n",
       "3  Deng, Yunfeng; Li, Yan; Wang, Fengtian; Gao, D...   ERJ Open Res      NaN   \n",
       "4                                                NaN            NaN      NaN   \n",
       "\n",
       "                                                 url  publish_year  \\\n",
       "0  https://www.ncbi.nlm.nih.gov/pmc/articles/PMC7...          2007   \n",
       "1  https://www.ncbi.nlm.nih.gov/pmc/articles/PMC3...          2012   \n",
       "2  https://www.ncbi.nlm.nih.gov/pmc/articles/PMC4...          2016   \n",
       "3  https://www.ncbi.nlm.nih.gov/pmc/articles/PMC5...          2015   \n",
       "4                                                NaN            -1   \n",
       "\n",
       "   is_covid19                        study_design  \n",
       "0       False                                  []  \n",
       "1       False  ['truncated', 'gamma', 'protocol']  \n",
       "2       False      ['truncated', 'heterogeneity']  \n",
       "3       False                                  []  \n",
       "4        True                                  []  "
      ]
     },
     "execution_count": 2,
     "metadata": {},
     "output_type": "execute_result"
    }
   ],
   "source": [
    "df = pd.read_hdf('metadata/preprocessed.h5')\n",
    "df.head()"
   ]
  },
  {
   "cell_type": "markdown",
   "metadata": {},
   "source": [
    "## Extract papers"
   ]
  },
  {
   "cell_type": "code",
   "execution_count": 5,
   "metadata": {},
   "outputs": [],
   "source": [
    "bc = BertClient(ip='0.0.0.0')"
   ]
  },
  {
   "cell_type": "code",
   "execution_count": 6,
   "metadata": {},
   "outputs": [
    {
     "name": "stderr",
     "output_type": "stream",
     "text": [
      "  0%|          | 0/41062 [00:00<?, ?it/s]/usr/local/lib/python3.7/dist-packages/bert_serving/client/__init__.py:299: UserWarning: some of your sentences have more tokens than \"max_seq_len=25\" set on the server, as consequence you may get less-accurate or truncated embeddings.\n",
      "here is what you can do:\n",
      "- disable the length-check by create a new \"BertClient(check_length=False)\" when you do not want to display this warning\n",
      "- or, start a new server with a larger \"max_seq_len\"\n",
      "  '- or, start a new server with a larger \"max_seq_len\"' % self.length_limit)\n",
      "100%|██████████| 41062/41062 [13:50<00:00, 49.43it/s]\n"
     ]
    }
   ],
   "source": [
    "notna = df['abstract'].dropna().index\n",
    "vec = df.loc[notna, 'abstract'].progress_apply(lambda x: bc.encode([x]))"
   ]
  },
  {
   "cell_type": "code",
   "execution_count": 18,
   "metadata": {},
   "outputs": [
    {
     "data": {
      "text/plain": [
       "array([[-2.65608966e-01, -1.93127170e-01, -2.88924515e-01, ...,\n",
       "        -5.88914692e-01, -6.77560419e-02,  2.41620958e-01],\n",
       "       [ 1.59004033e-01, -6.18593574e-01, -3.38294625e-01, ...,\n",
       "        -2.14150906e-01, -3.34556326e-02,  5.61481761e-03],\n",
       "       [-8.59429613e-02,  1.24388486e-01, -2.88748235e-01, ...,\n",
       "        -6.36165679e-01, -3.02090466e-01,  5.49710453e-01],\n",
       "       ...,\n",
       "       [-4.98621851e-01, -1.64846629e-01, -2.82329291e-01, ...,\n",
       "        -4.41766560e-01, -3.13125998e-01,  9.55489576e-02],\n",
       "       [-2.22110465e-01,  9.58468318e-02, -4.01151702e-02, ...,\n",
       "        -3.09445202e-01, -2.81928092e-01,  1.67688161e-01],\n",
       "       [-5.74713409e-01, -2.96211238e-05, -1.75356343e-01, ...,\n",
       "        -5.11865675e-01, -5.63501157e-02,  3.88442606e-01]], dtype=float32)"
      ]
     },
     "execution_count": 18,
     "metadata": {},
     "output_type": "execute_result"
    }
   ],
   "source": [
    "v = np.stack(vec.values).squeeze()\n",
    "v"
   ]
  },
  {
   "cell_type": "code",
   "execution_count": 24,
   "metadata": {},
   "outputs": [],
   "source": [
    "prefix = 'metadata/uncased_L-12_H-768_A-12-'\n",
    "\n",
    "np.save(f'{prefix}vec.npy', v)\n",
    "np.save(f'{prefix}notna_index.npy', notna.values)"
   ]
  }
 ],
 "metadata": {
  "kernelspec": {
   "display_name": "Python 3",
   "language": "python",
   "name": "python3"
  },
  "language_info": {
   "codemirror_mode": {
    "name": "ipython",
    "version": 3
   },
   "file_extension": ".py",
   "mimetype": "text/x-python",
   "name": "python",
   "nbconvert_exporter": "python",
   "pygments_lexer": "ipython3",
   "version": "3.7.5"
  }
 },
 "nbformat": 4,
 "nbformat_minor": 4
}
