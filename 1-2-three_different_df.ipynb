{
 "cells": [
  {
   "cell_type": "code",
   "execution_count": 1,
   "metadata": {},
   "outputs": [],
   "source": [
    "import pandas as pd"
   ]
  },
  {
   "cell_type": "markdown",
   "metadata": {},
   "source": [
    "三種 preprocessed 的 df"
   ]
  },
  {
   "cell_type": "code",
   "execution_count": 2,
   "metadata": {},
   "outputs": [
    {
     "name": "stdout",
     "output_type": "stream",
     "text": [
      "<class 'pandas.core.frame.DataFrame'>\n",
      "RangeIndex: 59887 entries, 0 to 59886\n",
      "Data columns (total 19 columns):\n",
      " #   Column                       Non-Null Count  Dtype         \n",
      "---  ------                       --------------  -----         \n",
      " 0   cord_uid                     59887 non-null  object        \n",
      " 1   sha                          45763 non-null  object        \n",
      " 2   source_x                     59887 non-null  object        \n",
      " 3   title                        59724 non-null  object        \n",
      " 4   doi                          55801 non-null  object        \n",
      " 5   pmcid                        48139 non-null  object        \n",
      " 6   pubmed_id                    41328 non-null  float64       \n",
      " 7   license                      59887 non-null  object        \n",
      " 8   abstract                     48757 non-null  object        \n",
      " 9   publish_time                 59879 non-null  datetime64[ns]\n",
      " 10  authors                      57296 non-null  object        \n",
      " 11  journal                      52828 non-null  object        \n",
      " 12  Microsoft Academic Paper ID  964 non-null    float64       \n",
      " 13  WHO #Covidence               1768 non-null   object        \n",
      " 14  arxiv_id                     676 non-null    object        \n",
      " 15  has_pdf_parse                59887 non-null  bool          \n",
      " 16  has_pmc_xml_parse            59887 non-null  bool          \n",
      " 17  full_text_file               51426 non-null  object        \n",
      " 18  url                          59447 non-null  object        \n",
      "dtypes: bool(2), datetime64[ns](1), float64(2), object(14)\n",
      "memory usage: 7.9+ MB\n",
      "None\n"
     ]
    },
    {
     "name": "stderr",
     "output_type": "stream",
     "text": [
      "/usr/local/lib/python3.7/dist-packages/IPython/core/interactiveshell.py:3051: DtypeWarning: Columns (14) have mixed types.Specify dtype option on import or set low_memory=False.\n",
      "  interactivity=interactivity, compiler=compiler, result=result)\n"
     ]
    }
   ],
   "source": [
    "\"\"\"原本 kaggle 就附的\"\"\"\n",
    "\n",
    "df = pd.read_csv('raw/metadata.csv')\n",
    "df['publish_time'] = pd.to_datetime(df['publish_time'])\n",
    "print(df.info())\n",
    "# df.head(3)"
   ]
  },
  {
   "cell_type": "code",
   "execution_count": 3,
   "metadata": {},
   "outputs": [
    {
     "name": "stdout",
     "output_type": "stream",
     "text": [
      "<class 'pandas.core.frame.DataFrame'>\n",
      "RangeIndex: 47110 entries, 0 to 47109\n",
      "Data columns (total 16 columns):\n",
      " #   Column        Non-Null Count  Dtype         \n",
      "---  ------        --------------  -----         \n",
      " 0   paper_id      47110 non-null  object        \n",
      " 1   body_text     47110 non-null  object        \n",
      " 2   methods       19579 non-null  object        \n",
      " 3   results       16967 non-null  object        \n",
      " 4   source        42227 non-null  object        \n",
      " 5   title         42192 non-null  object        \n",
      " 6   doi           41172 non-null  object        \n",
      " 7   abstract      41062 non-null  object        \n",
      " 8   publish_time  42227 non-null  datetime64[ns]\n",
      " 9   authors       41609 non-null  object        \n",
      " 10  journal       38536 non-null  object        \n",
      " 11  arxiv_id      621 non-null    object        \n",
      " 12  url           42108 non-null  object        \n",
      " 13  publish_year  47110 non-null  int64         \n",
      " 14  is_covid19    47110 non-null  bool          \n",
      " 15  study_design  47110 non-null  object        \n",
      "dtypes: bool(1), datetime64[ns](1), int64(1), object(13)\n",
      "memory usage: 5.4+ MB\n",
      "None\n"
     ]
    },
    {
     "name": "stderr",
     "output_type": "stream",
     "text": [
      "/usr/local/lib/python3.7/dist-packages/IPython/core/interactiveshell.py:3051: DtypeWarning: Columns (11) have mixed types.Specify dtype option on import or set low_memory=False.\n",
      "  interactivity=interactivity, compiler=compiler, result=result)\n"
     ]
    }
   ],
   "source": [
    "df = pd.read_csv('metadata/1-create_dataframe.csv')\n",
    "df['publish_time'] = pd.to_datetime(df['publish_time'])\n",
    "print(df.info())\n",
    "# df.head(3)"
   ]
  },
  {
   "cell_type": "code",
   "execution_count": 4,
   "metadata": {},
   "outputs": [
    {
     "name": "stdout",
     "output_type": "stream",
     "text": [
      "<class 'pandas.core.frame.DataFrame'>\n",
      "RangeIndex: 42228 entries, 0 to 42227\n",
      "Data columns (total 22 columns):\n",
      " #   Column                       Non-Null Count  Dtype         \n",
      "---  ------                       --------------  -----         \n",
      " 0   sha                          42227 non-null  object        \n",
      " 1   source                       42227 non-null  object        \n",
      " 2   title                        42192 non-null  object        \n",
      " 3   doi                          41173 non-null  object        \n",
      " 4   abstract                     37515 non-null  object        \n",
      " 5   publish_time                 42227 non-null  datetime64[ns]\n",
      " 6   authors                      41612 non-null  object        \n",
      " 7   journal                      38537 non-null  object        \n",
      " 8   Microsoft Academic Paper ID  351 non-null    float64       \n",
      " 9   WHO #Covidence               513 non-null    object        \n",
      " 10  arxiv_id                     621 non-null    object        \n",
      " 11  has_pdf_parse                42227 non-null  object        \n",
      " 12  has_pmc_xml_parse            42227 non-null  object        \n",
      " 13  url                          42109 non-null  object        \n",
      " 14  paper_id_pdf                 42228 non-null  object        \n",
      " 15  body_text                    42228 non-null  object        \n",
      " 16  methods                      18063 non-null  object        \n",
      " 17  results                      15924 non-null  object        \n",
      " 18  paper_id_pmc                 18179 non-null  object        \n",
      " 19  publish_year                 42227 non-null  float64       \n",
      " 20  is_covid19                   42228 non-null  bool          \n",
      " 21  study_design                 42228 non-null  object        \n",
      "dtypes: bool(1), datetime64[ns](1), float64(2), object(18)\n",
      "memory usage: 6.8+ MB\n",
      "None\n"
     ]
    },
    {
     "name": "stderr",
     "output_type": "stream",
     "text": [
      "/usr/local/lib/python3.7/dist-packages/IPython/core/interactiveshell.py:3051: DtypeWarning: Columns (10,11,12) have mixed types.Specify dtype option on import or set low_memory=False.\n",
      "  interactivity=interactivity, compiler=compiler, result=result)\n"
     ]
    }
   ],
   "source": [
    "df = pd.read_csv('metadata/cord19_df.csv')\n",
    "df['publish_time'] = pd.to_datetime(df['publish_time'])\n",
    "print(df.info())\n",
    "# df.head(3)"
   ]
  }
 ],
 "metadata": {
  "kernelspec": {
   "display_name": "Python 3",
   "language": "python",
   "name": "python3"
  },
  "language_info": {
   "codemirror_mode": {
    "name": "ipython",
    "version": 3
   },
   "file_extension": ".py",
   "mimetype": "text/x-python",
   "name": "python",
   "nbconvert_exporter": "python",
   "pygments_lexer": "ipython3",
   "version": "3.7.5"
  }
 },
 "nbformat": 4,
 "nbformat_minor": 4
}
