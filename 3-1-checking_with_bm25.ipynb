{
 "cells": [
  {
   "cell_type": "code",
   "execution_count": 1,
   "metadata": {},
   "outputs": [
    {
     "name": "stderr",
     "output_type": "stream",
     "text": [
      "/usr/local/lib/python3.7/dist-packages/tqdm/std.py:666: FutureWarning: The Panel class is removed from pandas. Accessing it from the top-level namespace will also be removed in the next version\n",
      "  from pandas import Panel\n"
     ]
    }
   ],
   "source": [
    "import numpy as np\n",
    "import pandas as pd\n",
    "from tqdm import tqdm\n",
    "tqdm.pandas()\n",
    "\n",
    "import matplotlib.pyplot as plt\n",
    "import seaborn as sns\n",
    "\n",
    "from rank_bm25 import BM25Okapi\n",
    "\n",
    "# self defined\n",
    "from models import Bert_model"
   ]
  },
  {
   "cell_type": "code",
   "execution_count": 2,
   "metadata": {},
   "outputs": [
    {
     "data": {
      "text/html": [
       "<div>\n",
       "<style scoped>\n",
       "    .dataframe tbody tr th:only-of-type {\n",
       "        vertical-align: middle;\n",
       "    }\n",
       "\n",
       "    .dataframe tbody tr th {\n",
       "        vertical-align: top;\n",
       "    }\n",
       "\n",
       "    .dataframe thead th {\n",
       "        text-align: right;\n",
       "    }\n",
       "</style>\n",
       "<table border=\"1\" class=\"dataframe\">\n",
       "  <thead>\n",
       "    <tr style=\"text-align: right;\">\n",
       "      <th></th>\n",
       "      <th>paper_id</th>\n",
       "      <th>body_text</th>\n",
       "      <th>methods</th>\n",
       "      <th>results</th>\n",
       "      <th>source</th>\n",
       "      <th>title</th>\n",
       "      <th>doi</th>\n",
       "      <th>abstract</th>\n",
       "      <th>publish_time</th>\n",
       "      <th>authors</th>\n",
       "      <th>journal</th>\n",
       "      <th>arxiv_id</th>\n",
       "      <th>url</th>\n",
       "      <th>publish_year</th>\n",
       "      <th>is_covid19</th>\n",
       "      <th>study_design</th>\n",
       "    </tr>\n",
       "  </thead>\n",
       "  <tbody>\n",
       "    <tr>\n",
       "      <th>0</th>\n",
       "      <td>3cdc48bb9e40afd30a59463b7872761a726998c8</td>\n",
       "      <td>NDV (Roakin strain) was obtained from Dr. D. J...</td>\n",
       "      <td>NDV (Roakin strain) was obtained from Dr. D. J...</td>\n",
       "      <td>Adult house flies harbored Newcastle Disease v...</td>\n",
       "      <td>PMC</td>\n",
       "      <td>Experimental Evaluation of Musca domestica (Di...</td>\n",
       "      <td>10.1093/jmedent/44.4.666</td>\n",
       "      <td>House flies, Musca domestica L. (Diptera: Musc...</td>\n",
       "      <td>2007-07-01</td>\n",
       "      <td>Watson, D. Wes; Niño, Elina L.; Rochon, Katery...</td>\n",
       "      <td>J Med Entomol</td>\n",
       "      <td>NaN</td>\n",
       "      <td>https://www.ncbi.nlm.nih.gov/pmc/articles/PMC7...</td>\n",
       "      <td>2007</td>\n",
       "      <td>False</td>\n",
       "      <td>[]</td>\n",
       "    </tr>\n",
       "    <tr>\n",
       "      <th>1</th>\n",
       "      <td>d99acb4e99be7852aa61a688c9fbd38d44b5a252</td>\n",
       "      <td>Live attenuated viruses have been developed an...</td>\n",
       "      <td>RSV A2 strain was obtained from ATCC (Manassas...</td>\n",
       "      <td>The reverse genetics system for measles Edmons...</td>\n",
       "      <td>PMC</td>\n",
       "      <td>Evaluation of Measles Vaccine Virus as a Vecto...</td>\n",
       "      <td>10.2174/1874357901206010012</td>\n",
       "      <td>Live attenuated recombinant measles vaccine vi...</td>\n",
       "      <td>2012-02-16</td>\n",
       "      <td>Mok, Hoyin; Cheng, Xing; Xu, Qi; Zengel, James...</td>\n",
       "      <td>Open Virol J</td>\n",
       "      <td>NaN</td>\n",
       "      <td>https://www.ncbi.nlm.nih.gov/pmc/articles/PMC3...</td>\n",
       "      <td>2012</td>\n",
       "      <td>False</td>\n",
       "      <td>['truncated', 'gamma', 'protocol']</td>\n",
       "    </tr>\n",
       "    <tr>\n",
       "      <th>2</th>\n",
       "      <td>748d4c57fe1acc8d9d97cf574f7dea5296f9386c</td>\n",
       "      <td>Ebola virus (EBOV) and other members of the fa...</td>\n",
       "      <td>U2OS human osteosarcoma cells were cultured in...</td>\n",
       "      <td>For evaluating EBOV GP triggering under biosaf...</td>\n",
       "      <td>PMC</td>\n",
       "      <td>Direct Visualization of Ebola Virus Fusion Tri...</td>\n",
       "      <td>10.1128/mbio.01857-15</td>\n",
       "      <td>Ebola virus (EBOV) makes extensive and intrica...</td>\n",
       "      <td>2016-02-09</td>\n",
       "      <td>Spence, Jennifer S.; Krause, Tyler B.; Mittler...</td>\n",
       "      <td>mBio</td>\n",
       "      <td>NaN</td>\n",
       "      <td>https://www.ncbi.nlm.nih.gov/pmc/articles/PMC4...</td>\n",
       "      <td>2016</td>\n",
       "      <td>False</td>\n",
       "      <td>['truncated', 'heterogeneity']</td>\n",
       "    </tr>\n",
       "    <tr>\n",
       "      <th>3</th>\n",
       "      <td>b891efc6e1419713b05ff7d89b26d260478c28df</td>\n",
       "      <td>To the Editor:\\nChina has the world's second l...</td>\n",
       "      <td>NaN</td>\n",
       "      <td>NaN</td>\n",
       "      <td>PMC</td>\n",
       "      <td>Tuberculosis prevention in healthcare workers ...</td>\n",
       "      <td>10.1183/23120541.00015-2015</td>\n",
       "      <td>BSL3 and respiratory isolation wards protect h...</td>\n",
       "      <td>2015-08-21</td>\n",
       "      <td>Deng, Yunfeng; Li, Yan; Wang, Fengtian; Gao, D...</td>\n",
       "      <td>ERJ Open Res</td>\n",
       "      <td>NaN</td>\n",
       "      <td>https://www.ncbi.nlm.nih.gov/pmc/articles/PMC5...</td>\n",
       "      <td>2015</td>\n",
       "      <td>False</td>\n",
       "      <td>[]</td>\n",
       "    </tr>\n",
       "    <tr>\n",
       "      <th>4</th>\n",
       "      <td>353852971069ad5794445e5c1ab6077ce23da75d</td>\n",
       "      <td>Coronavirus disease 2019 (COVID-19) has spread...</td>\n",
       "      <td>NaN</td>\n",
       "      <td>NaN</td>\n",
       "      <td>NaN</td>\n",
       "      <td>NaN</td>\n",
       "      <td>NaN</td>\n",
       "      <td>NaN</td>\n",
       "      <td>NaT</td>\n",
       "      <td>NaN</td>\n",
       "      <td>NaN</td>\n",
       "      <td>NaN</td>\n",
       "      <td>NaN</td>\n",
       "      <td>-1</td>\n",
       "      <td>True</td>\n",
       "      <td>[]</td>\n",
       "    </tr>\n",
       "  </tbody>\n",
       "</table>\n",
       "</div>"
      ],
      "text/plain": [
       "                                   paper_id  \\\n",
       "0  3cdc48bb9e40afd30a59463b7872761a726998c8   \n",
       "1  d99acb4e99be7852aa61a688c9fbd38d44b5a252   \n",
       "2  748d4c57fe1acc8d9d97cf574f7dea5296f9386c   \n",
       "3  b891efc6e1419713b05ff7d89b26d260478c28df   \n",
       "4  353852971069ad5794445e5c1ab6077ce23da75d   \n",
       "\n",
       "                                           body_text  \\\n",
       "0  NDV (Roakin strain) was obtained from Dr. D. J...   \n",
       "1  Live attenuated viruses have been developed an...   \n",
       "2  Ebola virus (EBOV) and other members of the fa...   \n",
       "3  To the Editor:\\nChina has the world's second l...   \n",
       "4  Coronavirus disease 2019 (COVID-19) has spread...   \n",
       "\n",
       "                                             methods  \\\n",
       "0  NDV (Roakin strain) was obtained from Dr. D. J...   \n",
       "1  RSV A2 strain was obtained from ATCC (Manassas...   \n",
       "2  U2OS human osteosarcoma cells were cultured in...   \n",
       "3                                                NaN   \n",
       "4                                                NaN   \n",
       "\n",
       "                                             results source  \\\n",
       "0  Adult house flies harbored Newcastle Disease v...    PMC   \n",
       "1  The reverse genetics system for measles Edmons...    PMC   \n",
       "2  For evaluating EBOV GP triggering under biosaf...    PMC   \n",
       "3                                                NaN    PMC   \n",
       "4                                                NaN    NaN   \n",
       "\n",
       "                                               title  \\\n",
       "0  Experimental Evaluation of Musca domestica (Di...   \n",
       "1  Evaluation of Measles Vaccine Virus as a Vecto...   \n",
       "2  Direct Visualization of Ebola Virus Fusion Tri...   \n",
       "3  Tuberculosis prevention in healthcare workers ...   \n",
       "4                                                NaN   \n",
       "\n",
       "                           doi  \\\n",
       "0     10.1093/jmedent/44.4.666   \n",
       "1  10.2174/1874357901206010012   \n",
       "2        10.1128/mbio.01857-15   \n",
       "3  10.1183/23120541.00015-2015   \n",
       "4                          NaN   \n",
       "\n",
       "                                            abstract publish_time  \\\n",
       "0  House flies, Musca domestica L. (Diptera: Musc...   2007-07-01   \n",
       "1  Live attenuated recombinant measles vaccine vi...   2012-02-16   \n",
       "2  Ebola virus (EBOV) makes extensive and intrica...   2016-02-09   \n",
       "3  BSL3 and respiratory isolation wards protect h...   2015-08-21   \n",
       "4                                                NaN          NaT   \n",
       "\n",
       "                                             authors        journal arxiv_id  \\\n",
       "0  Watson, D. Wes; Niño, Elina L.; Rochon, Katery...  J Med Entomol      NaN   \n",
       "1  Mok, Hoyin; Cheng, Xing; Xu, Qi; Zengel, James...   Open Virol J      NaN   \n",
       "2  Spence, Jennifer S.; Krause, Tyler B.; Mittler...           mBio      NaN   \n",
       "3  Deng, Yunfeng; Li, Yan; Wang, Fengtian; Gao, D...   ERJ Open Res      NaN   \n",
       "4                                                NaN            NaN      NaN   \n",
       "\n",
       "                                                 url  publish_year  \\\n",
       "0  https://www.ncbi.nlm.nih.gov/pmc/articles/PMC7...          2007   \n",
       "1  https://www.ncbi.nlm.nih.gov/pmc/articles/PMC3...          2012   \n",
       "2  https://www.ncbi.nlm.nih.gov/pmc/articles/PMC4...          2016   \n",
       "3  https://www.ncbi.nlm.nih.gov/pmc/articles/PMC5...          2015   \n",
       "4                                                NaN            -1   \n",
       "\n",
       "   is_covid19                        study_design  \n",
       "0       False                                  []  \n",
       "1       False  ['truncated', 'gamma', 'protocol']  \n",
       "2       False      ['truncated', 'heterogeneity']  \n",
       "3       False                                  []  \n",
       "4        True                                  []  "
      ]
     },
     "execution_count": 2,
     "metadata": {},
     "output_type": "execute_result"
    }
   ],
   "source": [
    "df = pd.read_hdf('metadata/preprocessed.h5')\n",
    "df.head()"
   ]
  },
  {
   "cell_type": "markdown",
   "metadata": {},
   "source": [
    "# BM25"
   ]
  },
  {
   "cell_type": "code",
   "execution_count": 3,
   "metadata": {},
   "outputs": [
    {
     "data": {
      "text/plain": [
       "41062"
      ]
     },
     "execution_count": 3,
     "metadata": {},
     "output_type": "execute_result"
    }
   ],
   "source": [
    "abstract_bm25 = BM25Okapi(df['abstract'].dropna())\n",
    "abstract_bm25.corpus_size"
   ]
  },
  {
   "cell_type": "code",
   "execution_count": 4,
   "metadata": {},
   "outputs": [
    {
     "name": "stdout",
     "output_type": "stream",
     "text": [
      "0.0 25.56885220118872\n",
      "effective min score: 4.341793002555567\n",
      "effective max score: 25.527117429704845\n"
     ]
    },
    {
     "data": {
      "text/plain": [
       "<matplotlib.axes._subplots.AxesSubplot at 0x7fbe8def4750>"
      ]
     },
     "execution_count": 4,
     "metadata": {},
     "output_type": "execute_result"
    },
    {
     "data": {
      "image/png": "[encoded data removed]",
      "text/plain": [
       "<Figure size 432x288 with 1 Axes>"
      ]
     },
     "metadata": {
      "needs_background": "light"
     },
     "output_type": "display_data"
    }
   ],
   "source": [
    "\"\"\" 測試 query:'covid' 與 label:'is_covid19' 的關聯程度\"\"\"\n",
    "\n",
    "query_result = abstract_bm25.get_scores('covid')\n",
    "print(query_result.min(), query_result.max())\n",
    "\n",
    "is_covid19_notna_indicator = df.loc[df['abstract'].notna(), 'is_covid19']\n",
    "is_covid19_notna_scores = query_result[is_covid19_notna_indicator]\n",
    "\n",
    "print('effective min score:', np.min(is_covid19_notna_scores))\n",
    "print('effective max score:', np.max(is_covid19_notna_scores))\n",
    "sns.distplot(is_covid19_notna_scores, rug=True)"
   ]
  },
  {
   "cell_type": "raw",
   "metadata": {},
   "source": [
    "\"\"\" 測試 query:'covid' 與 label:'is_covid19' 的關聯程度\"\"\"\n",
    "\n",
    "indicators = keywords_df.loc[df['abstract'].notna()]\n",
    "\n",
    "for col in indicators:\n",
    "    scores = query_result[indicators[col]]\n",
    "    print(col, (np.min(scores), np.max(scores)) if len(scores) else None)\n",
    "    plt.figure()\n",
    "    ax = sns.distplot(scores, rug=True)\n",
    "    ax.set_xlim(0, 25)\n",
    "    ax.set_title(col)"
   ]
  }
 ],
 "metadata": {
  "kernelspec": {
   "display_name": "Python 3",
   "language": "python",
   "name": "python3"
  },
  "language_info": {
   "codemirror_mode": {
    "name": "ipython",
    "version": 3
   },
   "file_extension": ".py",
   "mimetype": "text/x-python",
   "name": "python",
   "nbconvert_exporter": "python",
   "pygments_lexer": "ipython3",
   "version": "3.7.5"
  }
 },
 "nbformat": 4,
 "nbformat_minor": 4
}
