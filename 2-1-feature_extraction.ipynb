{
 "cells": [
  {
   "cell_type": "raw",
   "metadata": {},
   "source": [
    "!pip install tables\n",
    "!pip install seaborn\n",
    "!pip install rank_bm25\n",
    "!pip install nltk\n",
    "!pip install bert-serving-client"
   ]
  },
  {
   "cell_type": "code",
   "execution_count": 2,
   "metadata": {},
   "outputs": [
    {
     "name": "stderr",
     "output_type": "stream",
     "text": [
      "/usr/local/lib/python3.7/dist-packages/tqdm/std.py:666: FutureWarning: The Panel class is removed from pandas. Accessing it from the top-level namespace will also be removed in the next version\n",
      "  from pandas import Panel\n",
      "/usr/local/lib/python3.7/dist-packages/tqdm/std.py:666: FutureWarning: The Panel class is removed from pandas. Accessing it from the top-level namespace will also be removed in the next version\n",
      "  from pandas import Panel\n"
     ]
    }
   ],
   "source": [
    "import pandas as pd\n",
    "from tqdm import tqdm\n",
    "tqdm.pandas()\n",
    "\n",
    "#self defined\n",
    "from preprocessing import contain_keywords"
   ]
  },
  {
   "cell_type": "markdown",
   "metadata": {},
   "source": [
    "# Load dataframe"
   ]
  },
  {
   "cell_type": "raw",
   "metadata": {},
   "source": [
    "\"\"\"這是原本的\"\"\"\n",
    "df = pd.read_csv('cord19_df.csv')\n",
    "df['publish_time'] = pd.to_datetime(df['publish_time'])\n",
    "print(df.info())\n",
    "df.head(3)"
   ]
  },
  {
   "cell_type": "code",
   "execution_count": 3,
   "metadata": {},
   "outputs": [
    {
     "name": "stdout",
     "output_type": "stream",
     "text": [
      "<class 'pandas.core.frame.DataFrame'>\n",
      "RangeIndex: 47110 entries, 0 to 47109\n",
      "Data columns (total 16 columns):\n",
      " #   Column        Non-Null Count  Dtype         \n",
      "---  ------        --------------  -----         \n",
      " 0   paper_id      47110 non-null  object        \n",
      " 1   body_text     47110 non-null  object        \n",
      " 2   methods       19579 non-null  object        \n",
      " 3   results       16967 non-null  object        \n",
      " 4   source        42227 non-null  object        \n",
      " 5   title         42192 non-null  object        \n",
      " 6   doi           41172 non-null  object        \n",
      " 7   abstract      41062 non-null  object        \n",
      " 8   publish_time  42227 non-null  datetime64[ns]\n",
      " 9   authors       41609 non-null  object        \n",
      " 10  journal       38536 non-null  object        \n",
      " 11  arxiv_id      621 non-null    object        \n",
      " 12  url           42108 non-null  object        \n",
      " 13  publish_year  47110 non-null  int64         \n",
      " 14  is_covid19    47110 non-null  bool          \n",
      " 15  study_design  47110 non-null  object        \n",
      "dtypes: bool(1), datetime64[ns](1), int64(1), object(13)\n",
      "memory usage: 5.4+ MB\n",
      "None\n"
     ]
    },
    {
     "name": "stderr",
     "output_type": "stream",
     "text": [
      "/usr/local/lib/python3.7/dist-packages/IPython/core/interactiveshell.py:3051: DtypeWarning: Columns (11) have mixed types.Specify dtype option on import or set low_memory=False.\n",
      "  interactivity=interactivity, compiler=compiler, result=result)\n"
     ]
    },
    {
     "data": {
      "text/html": [
       "<div>\n",
       "<style scoped>\n",
       "    .dataframe tbody tr th:only-of-type {\n",
       "        vertical-align: middle;\n",
       "    }\n",
       "\n",
       "    .dataframe tbody tr th {\n",
       "        vertical-align: top;\n",
       "    }\n",
       "\n",
       "    .dataframe thead th {\n",
       "        text-align: right;\n",
       "    }\n",
       "</style>\n",
       "<table border=\"1\" class=\"dataframe\">\n",
       "  <thead>\n",
       "    <tr style=\"text-align: right;\">\n",
       "      <th></th>\n",
       "      <th>paper_id</th>\n",
       "      <th>body_text</th>\n",
       "      <th>methods</th>\n",
       "      <th>results</th>\n",
       "      <th>source</th>\n",
       "      <th>title</th>\n",
       "      <th>doi</th>\n",
       "      <th>abstract</th>\n",
       "      <th>publish_time</th>\n",
       "      <th>authors</th>\n",
       "      <th>journal</th>\n",
       "      <th>arxiv_id</th>\n",
       "      <th>url</th>\n",
       "      <th>publish_year</th>\n",
       "      <th>is_covid19</th>\n",
       "      <th>study_design</th>\n",
       "    </tr>\n",
       "  </thead>\n",
       "  <tbody>\n",
       "    <tr>\n",
       "      <th>0</th>\n",
       "      <td>3cdc48bb9e40afd30a59463b7872761a726998c8</td>\n",
       "      <td>NDV (Roakin strain) was obtained from Dr. D. J...</td>\n",
       "      <td>NDV (Roakin strain) was obtained from Dr. D. J...</td>\n",
       "      <td>Adult house flies harbored Newcastle Disease v...</td>\n",
       "      <td>PMC</td>\n",
       "      <td>Experimental Evaluation of Musca domestica (Di...</td>\n",
       "      <td>10.1093/jmedent/44.4.666</td>\n",
       "      <td>House flies, Musca domestica L. (Diptera: Musc...</td>\n",
       "      <td>2007-07-01</td>\n",
       "      <td>Watson, D. Wes; Niño, Elina L.; Rochon, Katery...</td>\n",
       "      <td>J Med Entomol</td>\n",
       "      <td>NaN</td>\n",
       "      <td>https://www.ncbi.nlm.nih.gov/pmc/articles/PMC7...</td>\n",
       "      <td>2007</td>\n",
       "      <td>False</td>\n",
       "      <td>[]</td>\n",
       "    </tr>\n",
       "    <tr>\n",
       "      <th>1</th>\n",
       "      <td>d99acb4e99be7852aa61a688c9fbd38d44b5a252</td>\n",
       "      <td>Live attenuated viruses have been developed an...</td>\n",
       "      <td>RSV A2 strain was obtained from ATCC (Manassas...</td>\n",
       "      <td>The reverse genetics system for measles Edmons...</td>\n",
       "      <td>PMC</td>\n",
       "      <td>Evaluation of Measles Vaccine Virus as a Vecto...</td>\n",
       "      <td>10.2174/1874357901206010012</td>\n",
       "      <td>Live attenuated recombinant measles vaccine vi...</td>\n",
       "      <td>2012-02-16</td>\n",
       "      <td>Mok, Hoyin; Cheng, Xing; Xu, Qi; Zengel, James...</td>\n",
       "      <td>Open Virol J</td>\n",
       "      <td>NaN</td>\n",
       "      <td>https://www.ncbi.nlm.nih.gov/pmc/articles/PMC3...</td>\n",
       "      <td>2012</td>\n",
       "      <td>False</td>\n",
       "      <td>['truncated', 'gamma', 'protocol']</td>\n",
       "    </tr>\n",
       "    <tr>\n",
       "      <th>2</th>\n",
       "      <td>748d4c57fe1acc8d9d97cf574f7dea5296f9386c</td>\n",
       "      <td>Ebola virus (EBOV) and other members of the fa...</td>\n",
       "      <td>U2OS human osteosarcoma cells were cultured in...</td>\n",
       "      <td>For evaluating EBOV GP triggering under biosaf...</td>\n",
       "      <td>PMC</td>\n",
       "      <td>Direct Visualization of Ebola Virus Fusion Tri...</td>\n",
       "      <td>10.1128/mbio.01857-15</td>\n",
       "      <td>Ebola virus (EBOV) makes extensive and intrica...</td>\n",
       "      <td>2016-02-09</td>\n",
       "      <td>Spence, Jennifer S.; Krause, Tyler B.; Mittler...</td>\n",
       "      <td>mBio</td>\n",
       "      <td>NaN</td>\n",
       "      <td>https://www.ncbi.nlm.nih.gov/pmc/articles/PMC4...</td>\n",
       "      <td>2016</td>\n",
       "      <td>False</td>\n",
       "      <td>['truncated', 'heterogeneity']</td>\n",
       "    </tr>\n",
       "  </tbody>\n",
       "</table>\n",
       "</div>"
      ],
      "text/plain": [
       "                                   paper_id  \\\n",
       "0  3cdc48bb9e40afd30a59463b7872761a726998c8   \n",
       "1  d99acb4e99be7852aa61a688c9fbd38d44b5a252   \n",
       "2  748d4c57fe1acc8d9d97cf574f7dea5296f9386c   \n",
       "\n",
       "                                           body_text  \\\n",
       "0  NDV (Roakin strain) was obtained from Dr. D. J...   \n",
       "1  Live attenuated viruses have been developed an...   \n",
       "2  Ebola virus (EBOV) and other members of the fa...   \n",
       "\n",
       "                                             methods  \\\n",
       "0  NDV (Roakin strain) was obtained from Dr. D. J...   \n",
       "1  RSV A2 strain was obtained from ATCC (Manassas...   \n",
       "2  U2OS human osteosarcoma cells were cultured in...   \n",
       "\n",
       "                                             results source  \\\n",
       "0  Adult house flies harbored Newcastle Disease v...    PMC   \n",
       "1  The reverse genetics system for measles Edmons...    PMC   \n",
       "2  For evaluating EBOV GP triggering under biosaf...    PMC   \n",
       "\n",
       "                                               title  \\\n",
       "0  Experimental Evaluation of Musca domestica (Di...   \n",
       "1  Evaluation of Measles Vaccine Virus as a Vecto...   \n",
       "2  Direct Visualization of Ebola Virus Fusion Tri...   \n",
       "\n",
       "                           doi  \\\n",
       "0     10.1093/jmedent/44.4.666   \n",
       "1  10.2174/1874357901206010012   \n",
       "2        10.1128/mbio.01857-15   \n",
       "\n",
       "                                            abstract publish_time  \\\n",
       "0  House flies, Musca domestica L. (Diptera: Musc...   2007-07-01   \n",
       "1  Live attenuated recombinant measles vaccine vi...   2012-02-16   \n",
       "2  Ebola virus (EBOV) makes extensive and intrica...   2016-02-09   \n",
       "\n",
       "                                             authors        journal arxiv_id  \\\n",
       "0  Watson, D. Wes; Niño, Elina L.; Rochon, Katery...  J Med Entomol      NaN   \n",
       "1  Mok, Hoyin; Cheng, Xing; Xu, Qi; Zengel, James...   Open Virol J      NaN   \n",
       "2  Spence, Jennifer S.; Krause, Tyler B.; Mittler...           mBio      NaN   \n",
       "\n",
       "                                                 url  publish_year  \\\n",
       "0  https://www.ncbi.nlm.nih.gov/pmc/articles/PMC7...          2007   \n",
       "1  https://www.ncbi.nlm.nih.gov/pmc/articles/PMC3...          2012   \n",
       "2  https://www.ncbi.nlm.nih.gov/pmc/articles/PMC4...          2016   \n",
       "\n",
       "   is_covid19                        study_design  \n",
       "0       False                                  []  \n",
       "1       False  ['truncated', 'gamma', 'protocol']  \n",
       "2       False      ['truncated', 'heterogeneity']  "
      ]
     },
     "execution_count": 3,
     "metadata": {},
     "output_type": "execute_result"
    }
   ],
   "source": [
    "\"\"\"後來改成讀這個檔\"\"\"\n",
    "df = pd.read_csv('metadata/1-create_dataframe.csv')\n",
    "df['publish_time'] = pd.to_datetime(df['publish_time'])\n",
    "print(df.info())\n",
    "df.head(3)"
   ]
  },
  {
   "cell_type": "code",
   "execution_count": 4,
   "metadata": {},
   "outputs": [
    {
     "name": "stderr",
     "output_type": "stream",
     "text": [
      "100%|██████████| 47110/47110 [02:40<00:00, 293.03it/s]\n",
      "100%|██████████| 47110/47110 [00:08<00:00, 5800.75it/s] \n"
     ]
    },
    {
     "data": {
      "text/plain": [
       "0        0\n",
       "1        0\n",
       "2        0\n",
       "3        0\n",
       "4        3\n",
       "        ..\n",
       "47105    2\n",
       "47106    3\n",
       "47107    0\n",
       "47108    2\n",
       "47109    0\n",
       "Length: 47110, dtype: int64"
      ]
     },
     "execution_count": 4,
     "metadata": {},
     "output_type": "execute_result"
    }
   ],
   "source": [
    "covid19_keywords = ['COVID-19', 'covid', 'sar cov 2', 'SARS-CoV-2', '2019-nCov',\n",
    "    '2019 ncov', 'SARS Coronavirus 2', '2019 Novel Coronavirus', 'coronavirus 2019', 'Wuhan coronavirus',\n",
    "    'wuhan pneumonia', 'wuhan virus']\n",
    "\n",
    "keywords_df = contain_keywords(df['body_text'], covid19_keywords)\n",
    "keywords_df.sum(axis=1)"
   ]
  },
  {
   "cell_type": "code",
   "execution_count": 9,
   "metadata": {},
   "outputs": [
    {
     "name": "stderr",
     "output_type": "stream",
     "text": [
      "/usr/local/lib/python3.7/dist-packages/pandas/core/generic.py:2505: PerformanceWarning: \n",
      "your performance may suffer as PyTables will pickle object types that it cannot\n",
      "map directly to c-types [inferred_type->mixed,key->block2_values] [items->Index(['paper_id', 'body_text', 'methods', 'results', 'source', 'title', 'doi',\n",
      "       'abstract', 'authors', 'journal', 'arxiv_id', 'url', 'study_design'],\n",
      "      dtype='object')]\n",
      "\n",
      "  encoding=encoding,\n"
     ]
    }
   ],
   "source": [
    "keywords_df.to_hdf('metadata/keywords.h5', key='data')\n",
    "df.to_hdf('metadata/preprocessed.h5', key='data')"
   ]
  }
 ],
 "metadata": {
  "kernelspec": {
   "display_name": "Python 3",
   "language": "python",
   "name": "python3"
  },
  "language_info": {
   "codemirror_mode": {
    "name": "ipython",
    "version": 3
   },
   "file_extension": ".py",
   "mimetype": "text/x-python",
   "name": "python",
   "nbconvert_exporter": "python",
   "pygments_lexer": "ipython3",
   "version": "3.7.5"
  }
 },
 "nbformat": 4,
 "nbformat_minor": 4
}
